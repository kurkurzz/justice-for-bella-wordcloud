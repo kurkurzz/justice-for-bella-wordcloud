{
 "cells": [
  {
   "cell_type": "code",
   "execution_count": 5,
   "id": "7083c2a7",
   "metadata": {},
   "outputs": [],
   "source": [
    "import twint"
   ]
  },
  {
   "cell_type": "code",
   "execution_count": 6,
   "id": "bce4641b",
   "metadata": {},
   "outputs": [],
   "source": [
    "import nest_asyncio\n",
    "nest_asyncio.apply()"
   ]
  },
  {
   "cell_type": "code",
   "execution_count": 9,
   "id": "c10fe5c8",
   "metadata": {},
   "outputs": [],
   "source": [
    "# configure search parameters\n",
    "c = twint.Config()\n",
    "\n",
    "c.Search = \"#justiceforbella\"\n",
    "\n",
    "c.Store_csv = True\n",
    "c.Limit = 20_000\n",
    "c.Count = True\n",
    "c.Stats = True\n",
    "# c.Show_hashtags = True\n",
    "c.Stats = True\n",
    "c.Hide_output = True\n",
    "# c.Popular_tweets = True\n",
    "c.Output = \"justice-for-bella-tweets_2.csv\""
   ]
  },
  {
   "cell_type": "code",
   "execution_count": 10,
   "id": "00a7a639",
   "metadata": {},
   "outputs": [
    {
     "name": "stdout",
     "output_type": "stream",
     "text": [
      "[!] No more data! Scraping will stop now.\n",
      "found 0 deleted tweets in this search.\n",
      "[+] Finished: Successfully collected 797 Tweets.\n",
      "CPU times: total: 500 ms\n",
      "Wall time: 28.4 s\n"
     ]
    }
   ],
   "source": [
    "%%time\n",
    "twint.run.Search(c)"
   ]
  },
  {
   "cell_type": "code",
   "execution_count": null,
   "id": "9372ef1f",
   "metadata": {},
   "outputs": [],
   "source": []
  }
 ],
 "metadata": {
  "kernelspec": {
   "display_name": "Python 3 (ipykernel)",
   "language": "python",
   "name": "python3"
  },
  "language_info": {
   "codemirror_mode": {
    "name": "ipython",
    "version": 3
   },
   "file_extension": ".py",
   "mimetype": "text/x-python",
   "name": "python",
   "nbconvert_exporter": "python",
   "pygments_lexer": "ipython3",
   "version": "3.9.12"
  }
 },
 "nbformat": 4,
 "nbformat_minor": 5
}
